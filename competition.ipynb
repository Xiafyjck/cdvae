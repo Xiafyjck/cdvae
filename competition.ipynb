{
 "cells": [
  {
   "cell_type": "code",
   "execution_count": null,
   "id": "96144c97",
   "metadata": {},
   "outputs": [],
   "source": [
    "import os\n",
    "# DATA_PATH = \"/home/ma-user/work/cdvae/docs/比赛用例/data/A\"\n",
    "# os.environ['DATA_PATH'] = '/home/ma-user/work/cdvae/docs/比赛用例/data/A'\n",
    "assert os.environ.get('DATA_PATH'), 'DATA_PATH is not set'\n"
   ]
  },
  {
   "cell_type": "code",
   "execution_count": null,
   "id": "cacaa6a3",
   "metadata": {},
   "outputs": [],
   "source": [
    "!cd /home/ma-user/work/cdvae && uv run scripts/competition_evaluate.py"
   ]
  },
  {
   "cell_type": "code",
   "execution_count": null,
   "id": "514d6182",
   "metadata": {},
   "outputs": [],
   "source": [
    "!cp /home/ma-user/work/cdvae/submission.csv ./submission.csv"
   ]
  }
 ],
 "metadata": {
  "kernelspec": {
   "display_name": "cdvae",
   "language": "python",
   "name": "python3"
  },
  "language_info": {
   "codemirror_mode": {
    "name": "ipython",
    "version": 3
   },
   "file_extension": ".py",
   "mimetype": "text/x-python",
   "name": "python",
   "nbconvert_exporter": "python",
   "pygments_lexer": "ipython3",
   "version": "3.8.20"
  }
 },
 "nbformat": 4,
 "nbformat_minor": 5
}
