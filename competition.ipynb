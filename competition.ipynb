{
 "cells": [
  {
   "cell_type": "code",
   "execution_count": null,
   "id": "96144c97",
   "metadata": {},
   "outputs": [],
   "source": [
    "import os\n",
    "assert os.environ.get('DATA_PATH'), 'DATA_PATH is not set'"
   ]
  },
  {
   "cell_type": "code",
   "execution_count": null,
   "id": "cacaa6a3",
   "metadata": {},
   "outputs": [],
   "source": [
    "!cd /root/cdvae && uv run scripts/competition_evaluate.py"
   ]
  },
  {
   "cell_type": "code",
   "execution_count": null,
   "id": "514d6182",
   "metadata": {},
   "outputs": [],
   "source": [
    "!cp /root/cdvae/submission.csv ./submission.csv"
   ]
  }
 ],
 "metadata": {
  "kernelspec": {
   "display_name": ".venv",
   "language": "python",
   "name": "python3"
  },
  "language_info": {
   "name": "python",
   "version": "3.10.17"
  }
 },
 "nbformat": 4,
 "nbformat_minor": 5
}
