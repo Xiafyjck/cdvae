{
 "cells": [
  {
   "cell_type": "code",
   "execution_count": null,
   "id": "96144c97",
   "metadata": {},
   "outputs": [],
   "source": [
    "import os\n",
    "assert os.environ.get('DATA_PATH'), 'DATA_PATH is not set'\n",
    "os.chdir('/root/cdvae')\n",
    "!uv run scripts/competition_evaluate.py"
   ]
  }
 ],
 "metadata": {
  "kernelspec": {
   "display_name": ".venv",
   "language": "python",
   "name": "python3"
  },
  "language_info": {
   "name": "python",
   "version": "3.10.17"
  }
 },
 "nbformat": 4,
 "nbformat_minor": 5
}
