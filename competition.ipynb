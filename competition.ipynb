{
 "cells": [
  {
   "cell_type": "code",
   "execution_count": 1,
   "id": "96144c97",
   "metadata": {},
   "outputs": [],
   "source": [
    "import os\n",
    "# DATA_PATH = \"/home/ma-user/work/cdvae/docs/比赛用例/data/A\"\n",
    "os.environ['DATA_PATH'] = '/home/ma-user/work/cdvae/docs/比赛用例/data/A'\n",
    "assert os.environ.get('DATA_PATH'), 'DATA_PATH is not set'\n"
   ]
  },
  {
   "cell_type": "code",
   "execution_count": 2,
   "id": "cacaa6a3",
   "metadata": {},
   "outputs": [
    {
     "name": "stdout",
     "output_type": "stream",
     "text": [
      "Traceback (most recent call last):\n",
      "  File \"/home/ma-user/work/cdvae/scripts/competition_evaluate.py\", line 30, in <module>\n",
      "    from eval_utils import load_model\n",
      "  File \"/home/ma-user/work/cdvae/scripts/eval_utils.py\", line 17, in <module>\n",
      "    from cdvae.pl_data.dataset import TensorCrystDataset\n",
      "  File \"/home/ma-user/work/cdvae/cdvae/pl_data/dataset.py\", line 10, in <module>\n",
      "    from cdvae.common.utils import PROJECT_ROOT\n",
      "  File \"/home/ma-user/work/cdvae/cdvae/common/utils.py\", line 6, in <module>\n",
      "    import pytorch_lightning as pl\n",
      "  File \"/home/ma-user/work/cdvae/.venv/lib/python3.10/site-packages/pytorch_lightning/__init__.py\", line 27, in <module>\n",
      "    from pytorch_lightning.callbacks import Callback  # noqa: E402\n",
      "  File \"/home/ma-user/work/cdvae/.venv/lib/python3.10/site-packages/pytorch_lightning/callbacks/__init__.py\", line 14, in <module>\n",
      "    from pytorch_lightning.callbacks.batch_size_finder import BatchSizeFinder\n",
      "  File \"/home/ma-user/work/cdvae/.venv/lib/python3.10/site-packages/pytorch_lightning/callbacks/batch_size_finder.py\", line 26, in <module>\n",
      "    from pytorch_lightning.callbacks.callback import Callback\n",
      "  File \"/home/ma-user/work/cdvae/.venv/lib/python3.10/site-packages/pytorch_lightning/callbacks/callback.py\", line 22, in <module>\n",
      "    from pytorch_lightning.utilities.types import STEP_OUTPUT\n",
      "  File \"/home/ma-user/work/cdvae/.venv/lib/python3.10/site-packages/pytorch_lightning/utilities/types.py\", line 36, in <module>\n",
      "    from torchmetrics import Metric\n",
      "  File \"/home/ma-user/work/cdvae/.venv/lib/python3.10/site-packages/torchmetrics/__init__.py\", line 37, in <module>\n",
      "    from torchmetrics import functional  # noqa: E402\n",
      "  File \"/home/ma-user/work/cdvae/.venv/lib/python3.10/site-packages/torchmetrics/functional/__init__.py\", line 14, in <module>\n",
      "    from torchmetrics.functional.audio._deprecated import _permutation_invariant_training as permutation_invariant_training\n",
      "  File \"/home/ma-user/work/cdvae/.venv/lib/python3.10/site-packages/torchmetrics/functional/audio/__init__.py\", line 14, in <module>\n",
      "    from torchmetrics.functional.audio.pit import permutation_invariant_training, pit_permutate\n",
      "  File \"/home/ma-user/work/cdvae/.venv/lib/python3.10/site-packages/torchmetrics/functional/audio/pit.py\", line 22, in <module>\n",
      "    from torchmetrics.utilities import rank_zero_warn\n",
      "  File \"/home/ma-user/work/cdvae/.venv/lib/python3.10/site-packages/torchmetrics/utilities/__init__.py\", line 14, in <module>\n",
      "    from torchmetrics.utilities.checks import check_forward_full_state_property\n",
      "  File \"/home/ma-user/work/cdvae/.venv/lib/python3.10/site-packages/torchmetrics/utilities/checks.py\", line 26, in <module>\n",
      "    from torchmetrics.metric import Metric\n",
      "  File \"/home/ma-user/work/cdvae/.venv/lib/python3.10/site-packages/torchmetrics/metric.py\", line 43, in <module>\n",
      "    from torchmetrics.utilities.plot import _AX_TYPE, _PLOT_OUT_TYPE, plot_single_or_multi_val\n",
      "  File \"/home/ma-user/work/cdvae/.venv/lib/python3.10/site-packages/torchmetrics/utilities/plot.py\", line 26, in <module>\n",
      "    import matplotlib\n",
      "  File \"/home/ma-user/work/cdvae/.venv/lib/python3.10/site-packages/matplotlib/__init__.py\", line 1299, in <module>\n",
      "    rcParams['backend'] = os.environ.get('MPLBACKEND')\n",
      "  File \"/home/ma-user/work/cdvae/.venv/lib/python3.10/site-packages/matplotlib/__init__.py\", line 774, in __setitem__\n",
      "    raise ValueError(f\"Key {key}: {ve}\") from None\n",
      "ValueError: Key backend: 'module://matplotlib_inline.backend_inline' is not a valid value for backend; supported values are ['gtk3agg', 'gtk3cairo', 'gtk4agg', 'gtk4cairo', 'macosx', 'nbagg', 'notebook', 'qtagg', 'qtcairo', 'qt5agg', 'qt5cairo', 'tkagg', 'tkcairo', 'webagg', 'wx', 'wxagg', 'wxcairo', 'agg', 'cairo', 'pdf', 'pgf', 'ps', 'svg', 'template']\n"
     ]
    }
   ],
   "source": [
    "!cd /home/ma-user/work/cdvae && uv run scripts/competition_evaluate.py"
   ]
  },
  {
   "cell_type": "code",
   "execution_count": null,
   "id": "514d6182",
   "metadata": {},
   "outputs": [],
   "source": [
    "!cp /home/ma-user/work/cdvae/submission.csv ./submission.csv"
   ]
  }
 ],
 "metadata": {
  "kernelspec": {
   "display_name": "cdvae",
   "language": "python",
   "name": "python3"
  },
  "language_info": {
   "codemirror_mode": {
    "name": "ipython",
    "version": 3
   },
   "file_extension": ".py",
   "mimetype": "text/x-python",
   "name": "python",
   "nbconvert_exporter": "python",
   "pygments_lexer": "ipython3",
   "version": "3.8.20"
  }
 },
 "nbformat": 4,
 "nbformat_minor": 5
}
